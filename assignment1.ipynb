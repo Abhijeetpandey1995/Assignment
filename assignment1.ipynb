{
 "cells": [
  {
   "cell_type": "code",
   "execution_count": 7,
   "id": "8817faf3-0fc4-40a8-b8a6-4a0c84308a1a",
   "metadata": {},
   "outputs": [],
   "source": [
    "a='Abhi'"
   ]
  },
  {
   "cell_type": "code",
   "execution_count": 8,
   "id": "588ef5da-4963-4a7c-b4e4-832447708cbb",
   "metadata": {},
   "outputs": [],
   "source": [
    "b=[1,2,3]"
   ]
  },
  {
   "cell_type": "code",
   "execution_count": 9,
   "id": "ba034b89-a6fc-4b60-8d2a-7897bee69eb2",
   "metadata": {},
   "outputs": [],
   "source": [
    "c=12.25"
   ]
  },
  {
   "cell_type": "code",
   "execution_count": 16,
   "id": "36704943-99a2-4db6-96ee-57b6207e2f84",
   "metadata": {},
   "outputs": [],
   "source": [
    "my_tuple = (10, 20, 30, 40, 50)"
   ]
  },
  {
   "cell_type": "raw",
   "id": "3cf797a6-0865-40cc-b59b-a0d104847e69",
   "metadata": {},
   "source": []
  },
  {
   "cell_type": "code",
   "execution_count": 21,
   "id": "5e93104c-8a4b-4702-9416-6e2b800cf5f5",
   "metadata": {},
   "outputs": [],
   "source": [
    "var1=''"
   ]
  },
  {
   "cell_type": "code",
   "execution_count": 30,
   "id": "d232669c-e2c9-48e1-8ab7-47c15c2de4b3",
   "metadata": {},
   "outputs": [],
   "source": [
    "var2='[DS,ML,Python]'"
   ]
  },
  {
   "cell_type": "code",
   "execution_count": 23,
   "id": "00f68672-ed0f-4b98-9f08-be90bc3d6d79",
   "metadata": {},
   "outputs": [],
   "source": [
    "var3=['DS','ML','Python']"
   ]
  },
  {
   "cell_type": "code",
   "execution_count": 24,
   "id": "479d0add-29af-455f-91ad-612bdeef9870",
   "metadata": {},
   "outputs": [],
   "source": [
    "var4=1"
   ]
  },
  {
   "cell_type": "code",
   "execution_count": 25,
   "id": "e3b4dee0-138d-494a-b721-002267963ea9",
   "metadata": {},
   "outputs": [
    {
     "data": {
      "text/plain": [
       "str"
      ]
     },
     "execution_count": 25,
     "metadata": {},
     "output_type": "execute_result"
    }
   ],
   "source": [
    "type(var1)"
   ]
  },
  {
   "cell_type": "code",
   "execution_count": 31,
   "id": "834012ae-6ce5-4c4d-834f-5f26e12686b4",
   "metadata": {},
   "outputs": [
    {
     "data": {
      "text/plain": [
       "str"
      ]
     },
     "execution_count": 31,
     "metadata": {},
     "output_type": "execute_result"
    }
   ],
   "source": [
    "type(var2)"
   ]
  },
  {
   "cell_type": "code",
   "execution_count": 29,
   "id": "9c5ab515-fccd-4d81-9fec-6a7db1fd4f95",
   "metadata": {},
   "outputs": [
    {
     "data": {
      "text/plain": [
       "list"
      ]
     },
     "execution_count": 29,
     "metadata": {},
     "output_type": "execute_result"
    }
   ],
   "source": [
    "type(var3)"
   ]
  },
  {
   "cell_type": "code",
   "execution_count": 28,
   "id": "badd6443-76d9-452c-8ae9-6e4e0682fef5",
   "metadata": {},
   "outputs": [
    {
     "data": {
      "text/plain": [
       "int"
      ]
     },
     "execution_count": 28,
     "metadata": {},
     "output_type": "execute_result"
    }
   ],
   "source": [
    "type(var4)"
   ]
  },
  {
   "cell_type": "code",
   "execution_count": null,
   "id": "4e05affb-38ee-4ba5-a380-140ecc49c6c2",
   "metadata": {},
   "outputs": [],
   "source": []
  },
  {
   "cell_type": "code",
   "execution_count": null,
   "id": "913156d7-1664-4fd4-acc9-4903d17c6b7e",
   "metadata": {},
   "outputs": [],
   "source": []
  },
  {
   "cell_type": "code",
   "execution_count": 32,
   "id": "0de95fa9-4771-4a7b-98bf-2881e51f3c8b",
   "metadata": {},
   "outputs": [],
   "source": [
    "#these are mathematical operators"
   ]
  },
  {
   "cell_type": "code",
   "execution_count": 34,
   "id": "faced08d-2abc-472e-860a-451bda9d3f36",
   "metadata": {},
   "outputs": [
    {
     "data": {
      "text/plain": [
       "2.4"
      ]
     },
     "execution_count": 34,
     "metadata": {},
     "output_type": "execute_result"
    }
   ],
   "source": [
    "12/5 #shows the division answer"
   ]
  },
  {
   "cell_type": "code",
   "execution_count": 35,
   "id": "ffb4c645-dd0b-4f74-ab4e-38a360529ac0",
   "metadata": {},
   "outputs": [
    {
     "data": {
      "text/plain": [
       "4.0"
      ]
     },
     "execution_count": 35,
     "metadata": {},
     "output_type": "execute_result"
    }
   ],
   "source": [
    "12%3 # shows remainder"
   ]
  },
  {
   "cell_type": "code",
   "execution_count": 36,
   "id": "e46d73d2-ec26-4ce6-a30b-45708b38bfd6",
   "metadata": {},
   "outputs": [
    {
     "data": {
      "text/plain": [
       "2"
      ]
     },
     "execution_count": 36,
     "metadata": {},
     "output_type": "execute_result"
    }
   ],
   "source": [
    "12//5 # shows the no. of times 12 can be divided by 5 in integer value"
   ]
  },
  {
   "cell_type": "code",
   "execution_count": 39,
   "id": "2c30d122-53c0-4b8a-b6be-866cd6222057",
   "metadata": {},
   "outputs": [
    {
     "data": {
      "text/plain": [
       "8"
      ]
     },
     "execution_count": 39,
     "metadata": {},
     "output_type": "execute_result"
    }
   ],
   "source": [
    "2**3 # shows power"
   ]
  },
  {
   "cell_type": "code",
   "execution_count": null,
   "id": "235ca3ee-8231-4ed6-b827-d120b01a03b0",
   "metadata": {},
   "outputs": [],
   "source": []
  },
  {
   "cell_type": "code",
   "execution_count": 41,
   "id": "4f592c9d-f50d-419d-82bc-7822a56d675f",
   "metadata": {},
   "outputs": [],
   "source": [
    "l=[1,2,3,4,5,6,'Hello',12.25,True,'Pw skills']"
   ]
  },
  {
   "cell_type": "code",
   "execution_count": 45,
   "id": "7bd39067-2518-4985-97c3-a46ff0115909",
   "metadata": {},
   "outputs": [
    {
     "name": "stdout",
     "output_type": "stream",
     "text": [
      "<class 'int'> 1\n",
      "<class 'int'> 2\n",
      "<class 'int'> 3\n",
      "<class 'int'> 4\n",
      "<class 'int'> 5\n",
      "<class 'int'> 6\n",
      "<class 'str'> Hello\n",
      "<class 'float'> 12.25\n",
      "<class 'bool'> True\n",
      "<class 'str'> Pw skills\n",
      "this will be executed once for loop will comoplete itself succefully\n"
     ]
    }
   ],
   "source": [
    "for i in l : \n",
    "    print(type(i),i)\n",
    "        \n",
    "else :\n",
    "    print(\"this will be executed once for loop will comoplete itself succefully\")"
   ]
  },
  {
   "cell_type": "code",
   "execution_count": null,
   "id": "306d8abe-dd8c-4ddd-acf6-9b52ea0715c3",
   "metadata": {},
   "outputs": [],
   "source": []
  },
  {
   "cell_type": "code",
   "execution_count": 52,
   "id": "e1935979-5fad-4bcb-bab5-ec9f48ae106a",
   "metadata": {},
   "outputs": [
    {
     "name": "stdin",
     "output_type": "stream",
     "text": [
      "Enter number A:  24\n",
      "Enter number B:  3\n"
     ]
    },
    {
     "name": "stdout",
     "output_type": "stream",
     "text": [
      "A is divisible by B 1 times.\n"
     ]
    }
   ],
   "source": [
    "A = int(input(\"Enter number A: \"))\n",
    "B = int(input(\"Enter number B: \"))\n",
    "count = 0\n",
    "\n",
    "while A >= B and A % B == 0:\n",
    "    A = A / B\n",
    "    count += 1\n",
    "\n",
    "if count > 0:\n",
    "    print(f\"A is divisible by B {count} times.\")\n",
    "else:\n",
    "    print(\"A is not divisible by B.\")\n"
   ]
  },
  {
   "cell_type": "code",
   "execution_count": null,
   "id": "918c3fdb-a7ed-4f34-8190-ffa73e2aa568",
   "metadata": {},
   "outputs": [],
   "source": []
  },
  {
   "cell_type": "code",
   "execution_count": 51,
   "id": "34dfeb76-94bf-4695-89ab-84bc17466fee",
   "metadata": {},
   "outputs": [
    {
     "name": "stdout",
     "output_type": "stream",
     "text": [
      "10 is not divisible by 3.\n",
      "15 is divisible by 3.\n",
      "7 is not divisible by 3.\n",
      "9 is divisible by 3.\n",
      "30 is divisible by 3.\n",
      "18 is divisible by 3.\n",
      "5 is not divisible by 3.\n",
      "21 is divisible by 3.\n",
      "27 is divisible by 3.\n",
      "14 is not divisible by 3.\n",
      "33 is divisible by 3.\n",
      "12 is divisible by 3.\n",
      "8 is not divisible by 3.\n",
      "22 is not divisible by 3.\n",
      "6 is divisible by 3.\n",
      "19 is not divisible by 3.\n",
      "25 is not divisible by 3.\n",
      "36 is divisible by 3.\n",
      "42 is divisible by 3.\n",
      "16 is not divisible by 3.\n",
      "11 is not divisible by 3.\n",
      "4 is not divisible by 3.\n",
      "20 is not divisible by 3.\n",
      "28 is not divisible by 3.\n",
      "39 is divisible by 3.\n"
     ]
    }
   ],
   "source": [
    "data_list = [10, 15, 7, 9, 30, 18, 5, 21, 27, 14, 33, 12, 8, 22, 6, 19, 25, 36, 42, 16, 11, 4, 20, 28, 39]\n",
    "\n",
    "\n",
    "for num in data_list:\n",
    "    if num % 3 == 0:\n",
    "        print(f\"{num} is divisible by 3.\")\n",
    "    else:\n",
    "        print(f\"{num} is not divisible by 3.\")"
   ]
  },
  {
   "cell_type": "code",
   "execution_count": null,
   "id": "798902e1-f435-40d3-b901-57f8cdb97187",
   "metadata": {},
   "outputs": [],
   "source": []
  },
  {
   "cell_type": "code",
   "execution_count": null,
   "id": "76618ecd-04b6-406a-9b29-dbf86eab6ce4",
   "metadata": {},
   "outputs": [],
   "source": [
    "#Mutable & Immutable datatypes\n"
   ]
  },
  {
   "cell_type": "code",
   "execution_count": 53,
   "id": "b811ec5b-d1bb-49c2-bd70-4d9e6a8f443f",
   "metadata": {},
   "outputs": [],
   "source": [
    "list=[1,2,3,'pwskills']"
   ]
  },
  {
   "cell_type": "code",
   "execution_count": 54,
   "id": "87843b53-683e-48c7-8127-a84a0fa58e50",
   "metadata": {},
   "outputs": [],
   "source": [
    "str='Hey'"
   ]
  },
  {
   "cell_type": "code",
   "execution_count": 57,
   "id": "1058f2bb-9248-4234-8dd9-6a283db30b64",
   "metadata": {},
   "outputs": [],
   "source": [
    "list[0]='xyz'"
   ]
  }
 ],
 "metadata": {
  "kernelspec": {
   "display_name": "Python 3 (ipykernel)",
   "language": "python",
   "name": "python3"
  },
  "language_info": {
   "codemirror_mode": {
    "name": "ipython",
    "version": 3
   },
   "file_extension": ".py",
   "mimetype": "text/x-python",
   "name": "python",
   "nbconvert_exporter": "python",
   "pygments_lexer": "ipython3",
   "version": "3.10.8"
  }
 },
 "nbformat": 4,
 "nbformat_minor": 5
}
